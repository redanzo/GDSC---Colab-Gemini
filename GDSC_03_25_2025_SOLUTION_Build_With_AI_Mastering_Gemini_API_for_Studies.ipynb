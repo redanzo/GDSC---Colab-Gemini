{
  "nbformat": 4,
  "nbformat_minor": 0,
  "metadata": {
    "colab": {
      "provenance": [],
      "collapsed_sections": [
        "fNwxfj1Uc3kC",
        "alg4b7ZEc-u1",
        "2OAKtPLmda1l",
        "d81M1y-Nes8_",
        "IEKDaHfwemOF",
        "WGu9JofPeEX2",
        "4AACt8tBebdb",
        "Vg7qEJdzeJq1",
        "QwOsHg-3eNBE",
        "hb8_PVvseSiB"
      ],
      "include_colab_link": true
    },
    "kernelspec": {
      "name": "python3",
      "display_name": "Python 3"
    },
    "language_info": {
      "name": "python"
    }
  },
  "cells": [
    {
      "cell_type": "markdown",
      "metadata": {
        "id": "view-in-github",
        "colab_type": "text"
      },
      "source": [
        "<a href=\"https://colab.research.google.com/github/redanzo/GDSC---Colab-Gemini/blob/main/GDSC_03_25_2025_SOLUTION_Build_With_AI_Mastering_Gemini_API_for_Studies.ipynb\" target=\"_parent\"><img src=\"https://colab.research.google.com/assets/colab-badge.svg\" alt=\"Open In Colab\"/></a>"
      ]
    },
    {
      "cell_type": "markdown",
      "source": [
        "### Step 1: Setting Up the Environment\n",
        "# ----------------------------------\n",
        "#### Install necessary libraries for PDF parsing, Gemini API, and file handling."
      ],
      "metadata": {
        "id": "fNwxfj1Uc3kC"
      }
    },
    {
      "cell_type": "code",
      "source": [
        "!pip install google-generativeai pymupdf Pillow"
      ],
      "metadata": {
        "id": "Wr_DKfxzQVUB",
        "colab": {
          "base_uri": "https://localhost:8080/"
        },
        "outputId": "0151f577-d678-467e-b2ef-ffb9f4588189"
      },
      "execution_count": null,
      "outputs": [
        {
          "output_type": "stream",
          "name": "stdout",
          "text": [
            "Requirement already satisfied: google-generativeai in /usr/local/lib/python3.11/dist-packages (0.8.4)\n",
            "Collecting pymupdf\n",
            "  Downloading pymupdf-1.25.4-cp39-abi3-manylinux2014_x86_64.manylinux_2_17_x86_64.whl.metadata (3.4 kB)\n",
            "Requirement already satisfied: Pillow in /usr/local/lib/python3.11/dist-packages (11.1.0)\n",
            "Requirement already satisfied: google-ai-generativelanguage==0.6.15 in /usr/local/lib/python3.11/dist-packages (from google-generativeai) (0.6.15)\n",
            "Requirement already satisfied: google-api-core in /usr/local/lib/python3.11/dist-packages (from google-generativeai) (2.24.2)\n",
            "Requirement already satisfied: google-api-python-client in /usr/local/lib/python3.11/dist-packages (from google-generativeai) (2.164.0)\n",
            "Requirement already satisfied: google-auth>=2.15.0 in /usr/local/lib/python3.11/dist-packages (from google-generativeai) (2.38.0)\n",
            "Requirement already satisfied: protobuf in /usr/local/lib/python3.11/dist-packages (from google-generativeai) (5.29.3)\n",
            "Requirement already satisfied: pydantic in /usr/local/lib/python3.11/dist-packages (from google-generativeai) (2.10.6)\n",
            "Requirement already satisfied: tqdm in /usr/local/lib/python3.11/dist-packages (from google-generativeai) (4.67.1)\n",
            "Requirement already satisfied: typing-extensions in /usr/local/lib/python3.11/dist-packages (from google-generativeai) (4.12.2)\n",
            "Requirement already satisfied: proto-plus<2.0.0dev,>=1.22.3 in /usr/local/lib/python3.11/dist-packages (from google-ai-generativelanguage==0.6.15->google-generativeai) (1.26.1)\n",
            "Requirement already satisfied: googleapis-common-protos<2.0.0,>=1.56.2 in /usr/local/lib/python3.11/dist-packages (from google-api-core->google-generativeai) (1.69.2)\n",
            "Requirement already satisfied: requests<3.0.0,>=2.18.0 in /usr/local/lib/python3.11/dist-packages (from google-api-core->google-generativeai) (2.32.3)\n",
            "Requirement already satisfied: cachetools<6.0,>=2.0.0 in /usr/local/lib/python3.11/dist-packages (from google-auth>=2.15.0->google-generativeai) (5.5.2)\n",
            "Requirement already satisfied: pyasn1-modules>=0.2.1 in /usr/local/lib/python3.11/dist-packages (from google-auth>=2.15.0->google-generativeai) (0.4.1)\n",
            "Requirement already satisfied: rsa<5,>=3.1.4 in /usr/local/lib/python3.11/dist-packages (from google-auth>=2.15.0->google-generativeai) (4.9)\n",
            "Requirement already satisfied: httplib2<1.dev0,>=0.19.0 in /usr/local/lib/python3.11/dist-packages (from google-api-python-client->google-generativeai) (0.22.0)\n",
            "Requirement already satisfied: google-auth-httplib2<1.0.0,>=0.2.0 in /usr/local/lib/python3.11/dist-packages (from google-api-python-client->google-generativeai) (0.2.0)\n",
            "Requirement already satisfied: uritemplate<5,>=3.0.1 in /usr/local/lib/python3.11/dist-packages (from google-api-python-client->google-generativeai) (4.1.1)\n",
            "Requirement already satisfied: annotated-types>=0.6.0 in /usr/local/lib/python3.11/dist-packages (from pydantic->google-generativeai) (0.7.0)\n",
            "Requirement already satisfied: pydantic-core==2.27.2 in /usr/local/lib/python3.11/dist-packages (from pydantic->google-generativeai) (2.27.2)\n",
            "Requirement already satisfied: grpcio<2.0dev,>=1.33.2 in /usr/local/lib/python3.11/dist-packages (from google-api-core[grpc]!=2.0.*,!=2.1.*,!=2.10.*,!=2.2.*,!=2.3.*,!=2.4.*,!=2.5.*,!=2.6.*,!=2.7.*,!=2.8.*,!=2.9.*,<3.0.0dev,>=1.34.1->google-ai-generativelanguage==0.6.15->google-generativeai) (1.71.0)\n",
            "Requirement already satisfied: grpcio-status<2.0.dev0,>=1.33.2 in /usr/local/lib/python3.11/dist-packages (from google-api-core[grpc]!=2.0.*,!=2.1.*,!=2.10.*,!=2.2.*,!=2.3.*,!=2.4.*,!=2.5.*,!=2.6.*,!=2.7.*,!=2.8.*,!=2.9.*,<3.0.0dev,>=1.34.1->google-ai-generativelanguage==0.6.15->google-generativeai) (1.71.0)\n",
            "Requirement already satisfied: pyparsing!=3.0.0,!=3.0.1,!=3.0.2,!=3.0.3,<4,>=2.4.2 in /usr/local/lib/python3.11/dist-packages (from httplib2<1.dev0,>=0.19.0->google-api-python-client->google-generativeai) (3.2.1)\n",
            "Requirement already satisfied: pyasn1<0.7.0,>=0.4.6 in /usr/local/lib/python3.11/dist-packages (from pyasn1-modules>=0.2.1->google-auth>=2.15.0->google-generativeai) (0.6.1)\n",
            "Requirement already satisfied: charset-normalizer<4,>=2 in /usr/local/lib/python3.11/dist-packages (from requests<3.0.0,>=2.18.0->google-api-core->google-generativeai) (3.4.1)\n",
            "Requirement already satisfied: idna<4,>=2.5 in /usr/local/lib/python3.11/dist-packages (from requests<3.0.0,>=2.18.0->google-api-core->google-generativeai) (3.10)\n",
            "Requirement already satisfied: urllib3<3,>=1.21.1 in /usr/local/lib/python3.11/dist-packages (from requests<3.0.0,>=2.18.0->google-api-core->google-generativeai) (2.3.0)\n",
            "Requirement already satisfied: certifi>=2017.4.17 in /usr/local/lib/python3.11/dist-packages (from requests<3.0.0,>=2.18.0->google-api-core->google-generativeai) (2025.1.31)\n",
            "Downloading pymupdf-1.25.4-cp39-abi3-manylinux2014_x86_64.manylinux_2_17_x86_64.whl (20.0 MB)\n",
            "\u001b[2K   \u001b[90m━━━━━━━━━━━━━━━━━━━━━━━━━━━━━━━━━━━━━━━━\u001b[0m \u001b[32m20.0/20.0 MB\u001b[0m \u001b[31m16.8 MB/s\u001b[0m eta \u001b[36m0:00:00\u001b[0m\n",
            "\u001b[?25hInstalling collected packages: pymupdf\n",
            "Successfully installed pymupdf-1.25.4\n"
          ]
        }
      ]
    },
    {
      "cell_type": "markdown",
      "source": [
        "### Step 2: Importing Required Libraries\n",
        "# ------------------------------------"
      ],
      "metadata": {
        "id": "alg4b7ZEc-u1"
      }
    },
    {
      "cell_type": "code",
      "source": [
        "import google.generativeai as genai\n",
        "import fitz  # PyMuPDF for PDF parsing\n",
        "from PIL import Image\n",
        "import io\n",
        "import json\n",
        "import time\n",
        "import random\n",
        "from google.colab import files, userdata"
      ],
      "metadata": {
        "id": "NNB7j2iRdYWD"
      },
      "execution_count": null,
      "outputs": []
    },
    {
      "cell_type": "markdown",
      "source": [
        "### Step 3: Configuring Gemini\n",
        "# -----------------------------------\n",
        "##### Setup Gemini Key Secret in Colab: Click on the \"Key\" Icon on the sidebar to add your API Key."
      ],
      "metadata": {
        "id": "2OAKtPLmda1l"
      }
    },
    {
      "cell_type": "code",
      "source": [
        "from google.colab import userdata\n",
        "\n",
        "# Ensure you have set up your API key in Colab's 'Secrets' (userdata).\n",
        "GOOGLE_API_KEY = userdata.get('GOOGLE_API_KEY')\n",
        "genai.configure(api_key=GOOGLE_API_KEY)"
      ],
      "metadata": {
        "id": "_IAbJMtEd385"
      },
      "execution_count": null,
      "outputs": []
    },
    {
      "cell_type": "code",
      "source": [
        "text_model = genai.GenerativeModel('gemini-2.0-flash')\n",
        "vision_model = genai.GenerativeModel('gemini-2.0-flash')"
      ],
      "metadata": {
        "id": "Kjp_AViwd6TA"
      },
      "execution_count": null,
      "outputs": []
    },
    {
      "cell_type": "markdown",
      "source": [
        "### Step 4: \"Main Method\""
      ],
      "metadata": {
        "id": "d81M1y-Nes8_"
      }
    },
    {
      "cell_type": "code",
      "source": [
        "def study_assistant():\n",
        "    print(\"Welcome to the AI-Powered Study Assistant!\")\n",
        "    print(\"You can upload a PDF file (slides, notes, or presentations) to generate flashcards and quizzes.\")\n",
        "\n",
        "    while True:\n",
        "        print(\"\\nMenu:\")\n",
        "        print(\"1. Upload and process a PDF file\")\n",
        "        print(\"2. Exit\")\n",
        "\n",
        "        choice = input(\"Choose an option: \")\n",
        "\n",
        "        if choice == '1':\n",
        "            upload_and_process_pdf()\n",
        "        elif choice == '2':\n",
        "            print(\"Goodbye!\")\n",
        "            break\n",
        "        else:\n",
        "            print(\"Invalid choice. Please try again.\")"
      ],
      "metadata": {
        "id": "kVHw7SDieuC4"
      },
      "execution_count": null,
      "outputs": []
    },
    {
      "cell_type": "markdown",
      "source": [
        "### Step 5: Uploading and Processing PDF Files"
      ],
      "metadata": {
        "id": "IEKDaHfwemOF"
      }
    },
    {
      "cell_type": "code",
      "source": [
        "def upload_and_process_pdf():\n",
        "    from google.colab import files\n",
        "\n",
        "    uploaded = files.upload()\n",
        "\n",
        "    pdf_file_path = None\n",
        "    for file_name, file_content in uploaded.items():\n",
        "        if file_name.endswith('.pdf'):\n",
        "            with open(file_name, \"wb\") as f:\n",
        "                f.write(file_content)\n",
        "            pdf_file_path = file_name\n",
        "            print(f\"✅ Uploaded: {file_name}\")\n",
        "            break\n",
        "\n",
        "    if not pdf_file_path:\n",
        "        print(\"❌ No PDF uploaded.\")\n",
        "        return\n",
        "\n",
        "    # Step 1: Extract text and images\n",
        "    text, images, page_data = extract_from_pdf(pdf_file_path)  # Fixed: Now unpacking 3 values\n",
        "    print(f\"📄 Extracted {len(text)} characters of text and {len(images)} images.\\n\")\n",
        "\n",
        "    # Step 2: Analyze images (if any)\n",
        "    image_insights = []\n",
        "    if images:\n",
        "        print(\"🖼️ Analyzing images with Gemini...\")\n",
        "        image_insights = analyze_images(images)\n",
        "\n",
        "    # Step 3: Main interaction menu\n",
        "    while True:\n",
        "        print(\"\\n🔧 What would you like to do?\")\n",
        "        print(\"1. Generate Flashcards\")\n",
        "        print(\"2. Generate Sample Questions\")\n",
        "        print(\"3. Show Image Analysis\")\n",
        "        print(\"4. Exit\")\n",
        "\n",
        "        choice = input(\"Enter your choice (1-5): \").strip()\n",
        "\n",
        "        if choice == \"1\":\n",
        "            flashcards = create_flashcards(text)\n",
        "            print(\"\\n🧠 Flashcards:\\n\")\n",
        "            if isinstance(flashcards, list):\n",
        "                for card in flashcards:\n",
        "                    print(f\"Front: {card['front']}\\nBack: {card['back']}\\n\")\n",
        "            else:\n",
        "                print(flashcards)\n",
        "\n",
        "        elif choice == \"2\":\n",
        "            questions = generate_quiz_questions(text)\n",
        "            print(\"\\n📝 Sample Questions:\\n\")\n",
        "            if isinstance(questions, list):\n",
        "                for q in questions:\n",
        "                    print(f\"Q: {q['question']}\\nA: {q['answer']}\\n\")\n",
        "            else:\n",
        "                print(questions)\n",
        "\n",
        "        elif choice == \"3\":\n",
        "            if not image_insights:\n",
        "                print(\"No images to analyze.\")\n",
        "            else:\n",
        "                print(\"\\n📸 Image Analysis Results:\\n\")\n",
        "                for i, result in enumerate(image_insights, 1):\n",
        "                    print(f\"Image {i}: {result}\\n\")\n",
        "\n",
        "        elif choice == \"4\":\n",
        "            print(\"👋 Exiting. Thanks!\")\n",
        "            break\n",
        "\n",
        "        else:\n",
        "            print(\"⚠️ Invalid choice. Please try again.\")"
      ],
      "metadata": {
        "id": "SPzH22rBerQu"
      },
      "execution_count": null,
      "outputs": []
    },
    {
      "cell_type": "markdown",
      "source": [
        "### Step 6: Creating a Function to Extract Text and Images from PDF"
      ],
      "metadata": {
        "id": "WGu9JofPeEX2"
      }
    },
    {
      "cell_type": "code",
      "source": [
        "def extract_from_pdf(pdf_path):\n",
        "    text = \"\"         # Store all extracted text\n",
        "    images = []       # Store all images found in the PDF\n",
        "    page_data = []    # Store detailed data for each page (text + images)\n",
        "\n",
        "    print(\"🔍 Reading PDF and extracting content...\")\n",
        "\n",
        "    # Open the PDF using PyMuPDF\n",
        "    pdf_document = fitz.open(pdf_path)\n",
        "\n",
        "    # Go through each page of the PDF\n",
        "    for page_num in range(len(pdf_document)):\n",
        "        page = pdf_document.load_page(page_num)\n",
        "\n",
        "        # Extract all text from the current page\n",
        "        page_text = page.get_text()\n",
        "        text += page_text\n",
        "\n",
        "        page_images = []  # Images from this specific page\n",
        "        image_list = page.get_images(full=True)  # Get list of images on the page\n",
        "        print(f\"📄 Page {page_num + 1}: Found {len(image_list)} images.\")\n",
        "\n",
        "        # Loop through all images on the page\n",
        "        for img_index, img in enumerate(image_list):\n",
        "            xref = img[0]\n",
        "            base_image = pdf_document.extract_image(xref)\n",
        "            image_bytes = base_image[\"image\"]\n",
        "\n",
        "            try:\n",
        "                # Convert the image bytes to a PIL Image object\n",
        "                # PIL (Python Imaging Library, now called Pillow) is a tool that lets Python work with images — show them, resize them, edit them, etc.\n",
        "                image = Image.open(io.BytesIO(image_bytes)).convert(\"RGB\")\n",
        "                images.append(image)\n",
        "                page_images.append(image)\n",
        "            except Exception as e:\n",
        "                print(f\"⚠️ Failed to process image {img_index} on page {page_num + 1}: {e}\")\n",
        "\n",
        "        # Save page text and images in structured format\n",
        "        page_data.append({\n",
        "            \"page_number\": page_num + 1,\n",
        "            \"text\": page_text.strip(),\n",
        "            \"images\": page_images\n",
        "        })\n",
        "\n",
        "    print(f\"✅ Finished extracting {len(text)} characters of text and {len(images)} images.\")\n",
        "    return text.strip(), images, page_data\n"
      ],
      "metadata": {
        "id": "Uur64kqTeHpn"
      },
      "execution_count": null,
      "outputs": []
    },
    {
      "cell_type": "markdown",
      "source": [
        "### Step 7: Analyzing Images"
      ],
      "metadata": {
        "id": "4AACt8tBebdb"
      }
    },
    {
      "cell_type": "code",
      "source": [
        "def analyze_images(images):\n",
        "    analyzed_results = []\n",
        "\n",
        "    print(f\"🔎 Sending {len(images)} images to Gemini for analysis...\")\n",
        "\n",
        "    # Loop through each image\n",
        "    for idx, image in enumerate(images):\n",
        "        # Prompt to describe the image\n",
        "        prompt = (\n",
        "            \"You're an AI tutor. Carefully analyze this image from study material. \"\n",
        "            \"Describe the image, explain its relevance to the subject matter, and identify any key concepts or diagrams. \"\n",
        "            \"If it's not related to education, mention that too.\"\n",
        "        )\n",
        "\n",
        "        print(f\"\\n📸 Analyzing image {idx + 1}...\")\n",
        "        result = generate_response(prompt, images=[image])  # Send to Gemini\n",
        "        analyzed_results.append(result)  # Store result\n",
        "\n",
        "    print(\"✅ Image analysis complete.\")\n",
        "    return analyzed_results\n"
      ],
      "metadata": {
        "id": "42-P4K2-ed-s"
      },
      "execution_count": null,
      "outputs": []
    },
    {
      "cell_type": "markdown",
      "source": [
        "### Step 8: Creating a Function to Generate AI Responses"
      ],
      "metadata": {
        "id": "Vg7qEJdzeJq1"
      }
    },
    {
      "cell_type": "code",
      "source": [
        "def generate_response(prompt, images=None):\n",
        "    try:\n",
        "        if images:\n",
        "            print(\"🧠 Generating multimodal response using Gemini Vision...\")\n",
        "            response = vision_model.generate_content([prompt] + images)\n",
        "        else:\n",
        "            print(\"🧠 Generating text-only response using Gemini Pro...\")\n",
        "            response = text_model.generate_content(prompt)\n",
        "        return response.text\n",
        "    except Exception as e:\n",
        "        print(\"❌ Error while generating response:\", e)\n",
        "        return \"Error: Could not generate response.\""
      ],
      "metadata": {
        "id": "POpPzFTleMQ6"
      },
      "execution_count": null,
      "outputs": []
    },
    {
      "cell_type": "markdown",
      "source": [
        "### Step 9: Converting Extracted Text into Flashcards"
      ],
      "metadata": {
        "id": "QwOsHg-3eNBE"
      }
    },
    {
      "cell_type": "code",
      "source": [
        "def create_flashcards(text):\n",
        "    \"\"\"\n",
        "    Ask user for flashcard style and number, generate flashcards using Gemini API.\n",
        "    Each flashcard has 'front' and 'back'.\n",
        "    \"\"\"\n",
        "\n",
        "    # Ask user for style\n",
        "    print(\"\\n🎴 Choose flashcard style:\")\n",
        "    print(\"1. Vocabulary Only\")\n",
        "    print(\"2. Mixed (Q&A, fill-in-the-blank, etc.)\")\n",
        "    choice = input(\"Enter 1 or 2: \").strip()\n",
        "\n",
        "    # Ask user for how many flashcards\n",
        "    num = input(\"How many flashcards would you like to generate? \").strip()\n",
        "    num = int(num) if num.isdigit() else 10  # Default to 10 if invalid input\n",
        "\n",
        "    # Create prompt based on selected style\n",
        "    if choice == \"1\":\n",
        "        style = \"vocab\"\n",
        "        prompt = (\n",
        "            f\"You're an AI tutor. From the following study material, extract {num} important vocabulary words or technical terms. \"\n",
        "            \"For each, provide a short and simple definition. Format your response as a list of flashcards, each with:\\n\"\n",
        "            \"- front: The term or word\\n\"\n",
        "            \"- back: A simple definition\\n\\n\"\n",
        "            f\"Study Material:\\n{text}\"\n",
        "        )\n",
        "    else:\n",
        "        style = \"mixed\"\n",
        "        prompt = (\n",
        "            f\"You're an AI tutor. Based on the following study material, create {num} flashcards in a variety of styles, such as:\\n\"\n",
        "            \"- Question & Answer\\n\"\n",
        "            \"- Fill in the Blank\\n\"\n",
        "            \"- True or False\\n\"\n",
        "            \"- Short Concept Checks\\n\\n\"\n",
        "            \"Each flashcard should have:\\n\"\n",
        "            \"- front: A question or prompt\\n\"\n",
        "            \"- back: The answer or explanation\\n\\n\"\n",
        "            \"Please return your answer as a list of flashcards like this:\\n\"\n",
        "            \"[\\n\"\n",
        "            \"  {\\\"front\\\": \\\"What is the capital of France?\\\", \\\"back\\\": \\\"Paris\\\"},\\n\"\n",
        "            \"  {\\\"front\\\": \\\"True or False: Water is an element.\\\", \\\"back\\\": \\\"False\\\"},\\n\"\n",
        "            \"  ... (total of 10 flashcards)\\n\"\n",
        "            \"]\\n\\n\"\n",
        "            f\"Study Material:\\n{text}\"\n",
        "        )\n",
        "\n",
        "    # Call Gemini to generate flashcards\n",
        "    response = generate_response(prompt)\n",
        "\n",
        "    # Try to parse structured output\n",
        "    try:\n",
        "        flashcards = json.loads(response)\n",
        "        if isinstance(flashcards, list) and all(\"front\" in card and \"back\" in card for card in flashcards):\n",
        "            return flashcards\n",
        "    except Exception:\n",
        "        pass\n",
        "\n",
        "    # Fallback if parsing fails\n",
        "    print(\"⚠️ Could not parse structured flashcards, returning raw text.\")\n",
        "    return response"
      ],
      "metadata": {
        "id": "A_u-8euPeQPL"
      },
      "execution_count": null,
      "outputs": []
    },
    {
      "cell_type": "markdown",
      "source": [
        "### Step 10: Generating Dynamic Quiz Questions"
      ],
      "metadata": {
        "id": "hb8_PVvseSiB"
      }
    },
    {
      "cell_type": "code",
      "source": [
        "def generate_quiz_questions(text):\n",
        "    \"\"\"\n",
        "    Ask user for number of quiz questions, generate using Gemini.\n",
        "    Returns a list of {\"question\": ..., \"answer\": ...}\n",
        "    \"\"\"\n",
        "\n",
        "    # Ask user for number of questions\n",
        "    num = input(\"How many questions would you like to generate? \").strip()\n",
        "    num = int(num) if num.isdigit() else 5  # Default to 5 if invalid\n",
        "\n",
        "    # Prompt for Gemini\n",
        "    prompt = (\n",
        "        f\"You're a helpful AI tutor. Create {num} multiple choice or short-answer quiz questions \"\n",
        "        \"based on the following study material. Each question must have a correct answer.\\n\\n\"\n",
        "        \"Format your response like this:\\n\"\n",
        "        \"[\\n\"\n",
        "        \"  {\\\"question\\\": \\\"What is the capital of France?\\\", \\\"answer\\\": \\\"Paris\\\"},\\n\"\n",
        "        f\"  ... (total of {num} questions)\\n\"\n",
        "        \"]\\n\\n\"\n",
        "        f\"Study Material:\\n{text}\"\n",
        "    )\n",
        "\n",
        "    # Generate with Gemini\n",
        "    response = generate_response(prompt)\n",
        "\n",
        "    # Try parsing Gemini response as JSON\n",
        "    try:\n",
        "        questions = json.loads(response)\n",
        "        if isinstance(questions, list) and all(\"question\" in q and \"answer\" in q for q in questions):\n",
        "            return questions\n",
        "    except Exception:\n",
        "        pass\n",
        "\n",
        "    # Fallback if parsing fails\n",
        "    print(\"⚠️ Failed to parse structured questions. Returning raw Gemini output.\")\n",
        "    return response"
      ],
      "metadata": {
        "id": "kar2cY9veZgH"
      },
      "execution_count": null,
      "outputs": []
    },
    {
      "cell_type": "markdown",
      "source": [
        "## Final Step: Run Code"
      ],
      "metadata": {
        "id": "GeYlH9HweyCY"
      }
    },
    {
      "cell_type": "code",
      "source": [
        "study_assistant()"
      ],
      "metadata": {
        "id": "MFQUvfVoewhL",
        "colab": {
          "base_uri": "https://localhost:8080/",
          "height": 1000
        },
        "outputId": "e5bc4ecc-141c-4e05-bf56-b72950486a09"
      },
      "execution_count": null,
      "outputs": [
        {
          "name": "stdout",
          "output_type": "stream",
          "text": [
            "Welcome to the AI-Powered Study Assistant!\n",
            "You can upload a PDF file (slides, notes, or presentations) to generate flashcards and quizzes.\n",
            "\n",
            "Menu:\n",
            "1. Upload and process a PDF file\n",
            "2. Exit\n",
            "Choose an option: 1\n"
          ]
        },
        {
          "output_type": "display_data",
          "data": {
            "text/plain": [
              "<IPython.core.display.HTML object>"
            ],
            "text/html": [
              "\n",
              "     <input type=\"file\" id=\"files-fa5a33b7-61bc-4a4d-a17f-34c6d9d59e0e\" name=\"files[]\" multiple disabled\n",
              "        style=\"border:none\" />\n",
              "     <output id=\"result-fa5a33b7-61bc-4a4d-a17f-34c6d9d59e0e\">\n",
              "      Upload widget is only available when the cell has been executed in the\n",
              "      current browser session. Please rerun this cell to enable.\n",
              "      </output>\n",
              "      <script>// Copyright 2017 Google LLC\n",
              "//\n",
              "// Licensed under the Apache License, Version 2.0 (the \"License\");\n",
              "// you may not use this file except in compliance with the License.\n",
              "// You may obtain a copy of the License at\n",
              "//\n",
              "//      http://www.apache.org/licenses/LICENSE-2.0\n",
              "//\n",
              "// Unless required by applicable law or agreed to in writing, software\n",
              "// distributed under the License is distributed on an \"AS IS\" BASIS,\n",
              "// WITHOUT WARRANTIES OR CONDITIONS OF ANY KIND, either express or implied.\n",
              "// See the License for the specific language governing permissions and\n",
              "// limitations under the License.\n",
              "\n",
              "/**\n",
              " * @fileoverview Helpers for google.colab Python module.\n",
              " */\n",
              "(function(scope) {\n",
              "function span(text, styleAttributes = {}) {\n",
              "  const element = document.createElement('span');\n",
              "  element.textContent = text;\n",
              "  for (const key of Object.keys(styleAttributes)) {\n",
              "    element.style[key] = styleAttributes[key];\n",
              "  }\n",
              "  return element;\n",
              "}\n",
              "\n",
              "// Max number of bytes which will be uploaded at a time.\n",
              "const MAX_PAYLOAD_SIZE = 100 * 1024;\n",
              "\n",
              "function _uploadFiles(inputId, outputId) {\n",
              "  const steps = uploadFilesStep(inputId, outputId);\n",
              "  const outputElement = document.getElementById(outputId);\n",
              "  // Cache steps on the outputElement to make it available for the next call\n",
              "  // to uploadFilesContinue from Python.\n",
              "  outputElement.steps = steps;\n",
              "\n",
              "  return _uploadFilesContinue(outputId);\n",
              "}\n",
              "\n",
              "// This is roughly an async generator (not supported in the browser yet),\n",
              "// where there are multiple asynchronous steps and the Python side is going\n",
              "// to poll for completion of each step.\n",
              "// This uses a Promise to block the python side on completion of each step,\n",
              "// then passes the result of the previous step as the input to the next step.\n",
              "function _uploadFilesContinue(outputId) {\n",
              "  const outputElement = document.getElementById(outputId);\n",
              "  const steps = outputElement.steps;\n",
              "\n",
              "  const next = steps.next(outputElement.lastPromiseValue);\n",
              "  return Promise.resolve(next.value.promise).then((value) => {\n",
              "    // Cache the last promise value to make it available to the next\n",
              "    // step of the generator.\n",
              "    outputElement.lastPromiseValue = value;\n",
              "    return next.value.response;\n",
              "  });\n",
              "}\n",
              "\n",
              "/**\n",
              " * Generator function which is called between each async step of the upload\n",
              " * process.\n",
              " * @param {string} inputId Element ID of the input file picker element.\n",
              " * @param {string} outputId Element ID of the output display.\n",
              " * @return {!Iterable<!Object>} Iterable of next steps.\n",
              " */\n",
              "function* uploadFilesStep(inputId, outputId) {\n",
              "  const inputElement = document.getElementById(inputId);\n",
              "  inputElement.disabled = false;\n",
              "\n",
              "  const outputElement = document.getElementById(outputId);\n",
              "  outputElement.innerHTML = '';\n",
              "\n",
              "  const pickedPromise = new Promise((resolve) => {\n",
              "    inputElement.addEventListener('change', (e) => {\n",
              "      resolve(e.target.files);\n",
              "    });\n",
              "  });\n",
              "\n",
              "  const cancel = document.createElement('button');\n",
              "  inputElement.parentElement.appendChild(cancel);\n",
              "  cancel.textContent = 'Cancel upload';\n",
              "  const cancelPromise = new Promise((resolve) => {\n",
              "    cancel.onclick = () => {\n",
              "      resolve(null);\n",
              "    };\n",
              "  });\n",
              "\n",
              "  // Wait for the user to pick the files.\n",
              "  const files = yield {\n",
              "    promise: Promise.race([pickedPromise, cancelPromise]),\n",
              "    response: {\n",
              "      action: 'starting',\n",
              "    }\n",
              "  };\n",
              "\n",
              "  cancel.remove();\n",
              "\n",
              "  // Disable the input element since further picks are not allowed.\n",
              "  inputElement.disabled = true;\n",
              "\n",
              "  if (!files) {\n",
              "    return {\n",
              "      response: {\n",
              "        action: 'complete',\n",
              "      }\n",
              "    };\n",
              "  }\n",
              "\n",
              "  for (const file of files) {\n",
              "    const li = document.createElement('li');\n",
              "    li.append(span(file.name, {fontWeight: 'bold'}));\n",
              "    li.append(span(\n",
              "        `(${file.type || 'n/a'}) - ${file.size} bytes, ` +\n",
              "        `last modified: ${\n",
              "            file.lastModifiedDate ? file.lastModifiedDate.toLocaleDateString() :\n",
              "                                    'n/a'} - `));\n",
              "    const percent = span('0% done');\n",
              "    li.appendChild(percent);\n",
              "\n",
              "    outputElement.appendChild(li);\n",
              "\n",
              "    const fileDataPromise = new Promise((resolve) => {\n",
              "      const reader = new FileReader();\n",
              "      reader.onload = (e) => {\n",
              "        resolve(e.target.result);\n",
              "      };\n",
              "      reader.readAsArrayBuffer(file);\n",
              "    });\n",
              "    // Wait for the data to be ready.\n",
              "    let fileData = yield {\n",
              "      promise: fileDataPromise,\n",
              "      response: {\n",
              "        action: 'continue',\n",
              "      }\n",
              "    };\n",
              "\n",
              "    // Use a chunked sending to avoid message size limits. See b/62115660.\n",
              "    let position = 0;\n",
              "    do {\n",
              "      const length = Math.min(fileData.byteLength - position, MAX_PAYLOAD_SIZE);\n",
              "      const chunk = new Uint8Array(fileData, position, length);\n",
              "      position += length;\n",
              "\n",
              "      const base64 = btoa(String.fromCharCode.apply(null, chunk));\n",
              "      yield {\n",
              "        response: {\n",
              "          action: 'append',\n",
              "          file: file.name,\n",
              "          data: base64,\n",
              "        },\n",
              "      };\n",
              "\n",
              "      let percentDone = fileData.byteLength === 0 ?\n",
              "          100 :\n",
              "          Math.round((position / fileData.byteLength) * 100);\n",
              "      percent.textContent = `${percentDone}% done`;\n",
              "\n",
              "    } while (position < fileData.byteLength);\n",
              "  }\n",
              "\n",
              "  // All done.\n",
              "  yield {\n",
              "    response: {\n",
              "      action: 'complete',\n",
              "    }\n",
              "  };\n",
              "}\n",
              "\n",
              "scope.google = scope.google || {};\n",
              "scope.google.colab = scope.google.colab || {};\n",
              "scope.google.colab._files = {\n",
              "  _uploadFiles,\n",
              "  _uploadFilesContinue,\n",
              "};\n",
              "})(self);\n",
              "</script> "
            ]
          },
          "metadata": {}
        },
        {
          "output_type": "stream",
          "name": "stdout",
          "text": [
            "Saving Lecture-Notes-The-Mental-Process.pdf to Lecture-Notes-The-Mental-Process.pdf\n",
            "✅ Uploaded: Lecture-Notes-The-Mental-Process.pdf\n",
            "🔍 Reading PDF and extracting content...\n",
            "📄 Page 1: Found 0 images.\n",
            "📄 Page 2: Found 0 images.\n",
            "📄 Page 3: Found 0 images.\n",
            "✅ Finished extracting 10168 characters of text and 0 images.\n",
            "📄 Extracted 10166 characters of text and 0 images.\n",
            "\n",
            "\n",
            "🔧 What would you like to do?\n",
            "1. Generate Flashcards\n",
            "2. Generate Sample Questions\n",
            "3. Show Image Analysis\n",
            "4. Exit\n",
            "Enter your choice (1-5): 3\n",
            "No images to analyze.\n",
            "\n",
            "🔧 What would you like to do?\n",
            "1. Generate Flashcards\n",
            "2. Generate Sample Questions\n",
            "3. Show Image Analysis\n",
            "4. Exit\n",
            "Enter your choice (1-5): 1\n",
            "\n",
            "🎴 Choose flashcard style:\n",
            "1. Vocabulary Only\n",
            "2. Mixed (Q&A, fill-in-the-blank, etc.)\n",
            "Enter 1 or 2: 2\n",
            "How many flashcards would you like to generate? 3\n",
            "🧠 Generating text-only response using Gemini Pro...\n",
            "⚠️ Could not parse structured flashcards, returning raw text.\n",
            "\n",
            "🧠 Flashcards:\n",
            "\n",
            "```json\n",
            "[\n",
            "  {\n",
            "    \"front\": \"What are the two key mental processes involved in good note-taking?\",\n",
            "    \"back\": \"Listening and Thinking\"\n",
            "  },\n",
            "  {\n",
            "    \"front\": \"Fill in the blank: A lecture has essentially the same structure as a chapter in a _____\",\n",
            "    \"back\": \"Book\"\n",
            "  },\n",
            "  {\n",
            "    \"front\": \"Name three types of \\\"signal sentences\\\" discussed that can help you identify key information in a lecture.\",\n",
            "    \"back\": \"Introductory sentences, transition sentences, and concluding sentences.\"\n",
            "  }\n",
            "]\n",
            "```\n",
            "\n",
            "🔧 What would you like to do?\n",
            "1. Generate Flashcards\n",
            "2. Generate Sample Questions\n",
            "3. Show Image Analysis\n",
            "4. Exit\n",
            "Enter your choice (1-5): 2\n",
            "How many questions would you like to generate? 2\n",
            "🧠 Generating text-only response using Gemini Pro...\n",
            "⚠️ Failed to parse structured questions. Returning raw Gemini output.\n",
            "\n",
            "📝 Sample Questions:\n",
            "\n",
            "```json\n",
            "[\n",
            "  {\"question\": \"According to the text, what are the two keys to good note-taking?\", \"answer\": \"Listening and thinking\"},\n",
            "  {\"question\": \"What should you do with your notes within a few hours of a lecture?\", \"answer\": \"Read them over, fix jumbled sentences, fill in missing information\"}\n",
            "]\n",
            "```\n",
            "\n",
            "🔧 What would you like to do?\n",
            "1. Generate Flashcards\n",
            "2. Generate Sample Questions\n",
            "3. Show Image Analysis\n",
            "4. Exit\n",
            "Enter your choice (1-5): 4\n",
            "👋 Exiting. Thanks!\n",
            "\n",
            "Menu:\n",
            "1. Upload and process a PDF file\n",
            "2. Exit\n",
            "Choose an option: 2\n",
            "Goodbye!\n"
          ]
        }
      ]
    }
  ]
}